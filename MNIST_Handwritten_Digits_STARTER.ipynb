{
  "nbformat": 4,
  "nbformat_minor": 0,
  "metadata": {
    "colab": {
      "provenance": []
    },
    "kernelspec": {
      "name": "python3",
      "display_name": "Python 3"
    },
    "language_info": {
      "name": "python"
    }
  },
  "cells": [
    {
      "cell_type": "markdown",
      "source": [
        "# Introduction\n",
        "\n",
        "In this project, you will build a neural network of your own design to evaluate the MNIST dataset.\n",
        "\n",
        "Some of the benchmark results on MNIST include can be found [on Yann LeCun's page](http://yann.lecun.com/exdb/mnist/) and include:\n",
        "\n",
        "88% [Lecun et al., 1998](http://yann.lecun.com/exdb/publis/pdf/lecun-98.pdf)\n",
        "95.3% [Lecun et al., 1998](http://yann.lecun.com/exdb/publis/pdf/lecun-98.pdf)\n",
        "99.65% [Ciresan et al., 2011](http://people.idsia.ch/~juergen/ijcai2011.pdf)\n",
        "\n",
        "MNIST is a great dataset for sanity checking your models, since the accuracy levels achieved by large convolutional neural networks and small linear models are both quite high. This makes it important to be familiar with the data.\n",
        "\n",
        "## Imports"
      ],
      "metadata": {
        "id": "0hJt9a7SmSYB"
      }
    },
    {
      "cell_type": "code",
      "execution_count": 3,
      "metadata": {
        "id": "mXvLVqwqmEfx"
      },
      "outputs": [],
      "source": [
        "## This cell contains the essential imports you will need – DO NOT CHANGE THE CONTENTS! ##\n",
        "import torch\n",
        "import torch.nn as nn\n",
        "import torch.nn.functional as F\n",
        "import torch.optim as optim\n",
        "import torchvision\n",
        "import torchvision.transforms as transforms\n",
        "import matplotlib.pyplot as plt\n",
        "import numpy as np"
      ]
    },
    {
      "cell_type": "markdown",
      "source": [
        "## Load the Dataset\n",
        "\n",
        "Specify your transforms as a list if you intend to .\n",
        "The transforms module is already loaded as `transforms`.\n",
        "\n",
        "MNIST is fortunately included in the torchvision module.\n",
        "Then, you can create your dataset using the `MNIST` object from `torchvision.datasets` ([the documentation is available here](https://pytorch.org/vision/stable/datasets.html#mnist)).\n",
        "Make sure to specify `download=True`! \n",
        "\n",
        "Once your dataset is created, you'll also need to define a `DataLoader` from the `torch.utils.data` module for both the train and the test set."
      ],
      "metadata": {
        "id": "UUK8tSWymZnZ"
      }
    },
    {
      "cell_type": "code",
      "source": [
        "# Define transforms\n",
        "transform = transforms.Compose([\n",
        "    transforms.ToTensor(),\n",
        "    transforms.Normalize((0.5,), (0.5,))\n",
        "])\n",
        "\n",
        "# Create training set and define training dataloader\n",
        "trainset = torchvision.datasets.MNIST(root='./data', train=True, download=True, transform=transform)\n",
        "trainloader = torch.utils.data.DataLoader(trainset, batch_size=64, shuffle=True)\n",
        "\n",
        "# Create test set and define test dataloader\n",
        "testset = torchvision.datasets.MNIST(root='./data', train=False, download=True, transform=transform)\n",
        "testloader = torch.utils.data.DataLoader(testset, batch_size=64, shuffle=False)"
      ],
      "metadata": {
        "colab": {
          "base_uri": "https://localhost:8080/"
        },
        "id": "SjWrc07gmatg",
        "outputId": "96667160-c798-4407-82eb-f226d09e45a2"
      },
      "execution_count": 4,
      "outputs": [
        {
          "output_type": "stream",
          "name": "stdout",
          "text": [
            "Downloading http://yann.lecun.com/exdb/mnist/train-images-idx3-ubyte.gz\n",
            "Downloading http://yann.lecun.com/exdb/mnist/train-images-idx3-ubyte.gz to ./data/MNIST/raw/train-images-idx3-ubyte.gz\n"
          ]
        },
        {
          "output_type": "stream",
          "name": "stderr",
          "text": [
            "100%|██████████| 9912422/9912422 [00:00<00:00, 91439498.65it/s]\n"
          ]
        },
        {
          "output_type": "stream",
          "name": "stdout",
          "text": [
            "Extracting ./data/MNIST/raw/train-images-idx3-ubyte.gz to ./data/MNIST/raw\n",
            "\n",
            "Downloading http://yann.lecun.com/exdb/mnist/train-labels-idx1-ubyte.gz\n",
            "Downloading http://yann.lecun.com/exdb/mnist/train-labels-idx1-ubyte.gz to ./data/MNIST/raw/train-labels-idx1-ubyte.gz\n"
          ]
        },
        {
          "output_type": "stream",
          "name": "stderr",
          "text": [
            "100%|██████████| 28881/28881 [00:00<00:00, 35659609.60it/s]\n"
          ]
        },
        {
          "output_type": "stream",
          "name": "stdout",
          "text": [
            "Extracting ./data/MNIST/raw/train-labels-idx1-ubyte.gz to ./data/MNIST/raw\n",
            "\n",
            "Downloading http://yann.lecun.com/exdb/mnist/t10k-images-idx3-ubyte.gz\n",
            "Downloading http://yann.lecun.com/exdb/mnist/t10k-images-idx3-ubyte.gz to ./data/MNIST/raw/t10k-images-idx3-ubyte.gz\n"
          ]
        },
        {
          "output_type": "stream",
          "name": "stderr",
          "text": [
            "100%|██████████| 1648877/1648877 [00:00<00:00, 27194086.87it/s]\n"
          ]
        },
        {
          "output_type": "stream",
          "name": "stdout",
          "text": [
            "Extracting ./data/MNIST/raw/t10k-images-idx3-ubyte.gz to ./data/MNIST/raw\n",
            "\n",
            "Downloading http://yann.lecun.com/exdb/mnist/t10k-labels-idx1-ubyte.gz\n",
            "Downloading http://yann.lecun.com/exdb/mnist/t10k-labels-idx1-ubyte.gz to ./data/MNIST/raw/t10k-labels-idx1-ubyte.gz\n"
          ]
        },
        {
          "output_type": "stream",
          "name": "stderr",
          "text": [
            "100%|██████████| 4542/4542 [00:00<00:00, 14216812.51it/s]"
          ]
        },
        {
          "output_type": "stream",
          "name": "stdout",
          "text": [
            "Extracting ./data/MNIST/raw/t10k-labels-idx1-ubyte.gz to ./data/MNIST/raw\n",
            "\n"
          ]
        },
        {
          "output_type": "stream",
          "name": "stderr",
          "text": [
            "\n"
          ]
        }
      ]
    },
    {
      "cell_type": "markdown",
      "source": [
        "## Justify your preprocessing\n",
        "\n",
        "In your own words, why did you choose the transforms you chose? If you didn't use any preprocessing steps, why not?"
      ],
      "metadata": {
        "id": "9MeuW6F7mkrB"
      }
    },
    {
      "cell_type": "markdown",
      "source": [
        "**The transforms `ToTensor()` and `Normalize()` were chosen for the MNIST dataset to convert the images into tensors and normalize the pixel values. This helps ensure that the data is in a suitable format for training deep learning models and improves model performance and convergence.**"
      ],
      "metadata": {
        "id": "-FbEOKg4mmG_"
      }
    },
    {
      "cell_type": "markdown",
      "source": [
        "## Explore the Dataset\n",
        "Using matplotlib, numpy, and torch, explore the dimensions of your data.\n",
        "\n",
        "You can view images using the `show5` function defined below – it takes a data loader as an argument.\n",
        "Remember that normalized images will look really weird to you! You may want to try changing your transforms to view images.\n",
        "Typically using no transforms other than `toTensor()` works well for viewing – but not as well for training your network.\n",
        "If `show5` doesn't work, go back and check your code for creating your data loaders and your training/test sets."
      ],
      "metadata": {
        "id": "QDGsNu-Km8jc"
      }
    },
    {
      "cell_type": "code",
      "source": [
        "## This cell contains a function for showing 5 images from a dataloader – DO NOT CHANGE THE CONTENTS! ##\n",
        "def show5(img_loader):\n",
        "    dataiter = iter(img_loader)\n",
        "    \n",
        "    batch = next(dataiter)\n",
        "    labels = batch[1][0:5]\n",
        "    images = batch[0][0:5]\n",
        "    for i in range(5):\n",
        "        print(int(labels[i].detach()))\n",
        "    \n",
        "        image = images[i].numpy()\n",
        "        plt.imshow(image.T.squeeze().T)\n",
        "        plt.show()"
      ],
      "metadata": {
        "id": "4aJvgDLrm_0_"
      },
      "execution_count": 5,
      "outputs": []
    },
    {
      "cell_type": "code",
      "source": [
        "# Explore data\n",
        "# Get a batch of images from the training set\n",
        "images, labels = next(iter(trainloader))\n",
        "\n",
        "# Display the dimensions of the data\n",
        "print(\"Images shape:\", images.shape)\n",
        "print(\"Labels shape:\", labels.shape)\n",
        "\n",
        "# Visualize a few images\n",
        "def show5(img_loader):\n",
        "    images, labels = next(iter(img_loader))\n",
        "    for i in range(5):\n",
        "        print(\"Label:\", int(labels[i].item()))\n",
        "        image = images[i].numpy()\n",
        "        plt.imshow(image.squeeze(), cmap='gray')\n",
        "        plt.show()\n",
        "\n",
        "# Show 5 images from the training set\n",
        "show5(trainloader)"
      ],
      "metadata": {
        "colab": {
          "base_uri": "https://localhost:8080/",
          "height": 1000
        },
        "id": "GZPuItH5nUgM",
        "outputId": "5e56a461-6ad0-4810-ba68-a667cba591e3"
      },
      "execution_count": 6,
      "outputs": [
        {
          "output_type": "stream",
          "name": "stdout",
          "text": [
            "Images shape: torch.Size([64, 1, 28, 28])\n",
            "Labels shape: torch.Size([64])\n",
            "Label: 8\n"
          ]
        },
        {
          "output_type": "display_data",
          "data": {
            "text/plain": [
              "<Figure size 640x480 with 1 Axes>"
            ],
            "image/png": "[encoded data removed]"
          },
          "metadata": {}
        },
        {
          "output_type": "stream",
          "name": "stdout",
          "text": [
            "Label: 2\n"
          ]
        },
        {
          "output_type": "display_data",
          "data": {
            "text/plain": [
              "<Figure size 640x480 with 1 Axes>"
            ],
            "image/png": "[encoded data removed]"
          },
          "metadata": {}
        },
        {
          "output_type": "stream",
          "name": "stdout",
          "text": [
            "Label: 1\n"
          ]
        },
        {
          "output_type": "display_data",
          "data": {
            "text/plain": [
              "<Figure size 640x480 with 1 Axes>"
            ],
            "image/png": "[encoded data removed]"
          },
          "metadata": {}
        },
        {
          "output_type": "stream",
          "name": "stdout",
          "text": [
            "Label: 0\n"
          ]
        },
        {
          "output_type": "display_data",
          "data": {
            "text/plain": [
              "<Figure size 640x480 with 1 Axes>"
            ],
            "image/png": "[encoded data removed]"
          },
          "metadata": {}
        },
        {
          "output_type": "stream",
          "name": "stdout",
          "text": [
            "Label: 6\n"
          ]
        },
        {
          "output_type": "display_data",
          "data": {
            "text/plain": [
              "<Figure size 640x480 with 1 Axes>"
            ],
            "image/png": "[encoded data removed]"
          },
          "metadata": {}
        }
      ]
    },
    {
      "cell_type": "markdown",
      "source": [
        "## Build your Neural Network\n",
        "Using the layers in `torch.nn` (which has been imported as `nn`) and the `torch.nn.functional` module (imported as `F`), construct a neural network based on the parameters of the dataset.\n",
        "Use any architecture you like. \n",
        "\n",
        "*Note*: If you did not flatten your tensors in your transforms or as part of your preprocessing and you are using only `Linear` layers, make sure to use the `Flatten` layer in your network!"
      ],
      "metadata": {
        "id": "Pvt8kRfIm9eX"
      }
    },
    {
      "cell_type": "code",
      "source": [
        "# Define the neural network architecture\n",
        "class Net(nn.Module):\n",
        "    def __init__(self):\n",
        "        super(Net, self).__init__()\n",
        "        self.flatten = nn.Flatten()\n",
        "        self.fc1 = nn.Linear(28 * 28, 128)\n",
        "        self.fc2 = nn.Linear(128, 64)\n",
        "        self.fc3 = nn.Linear(64, 10)\n",
        "\n",
        "    def forward(self, x):\n",
        "        x = self.flatten(x)\n",
        "        x = F.relu(self.fc1(x))\n",
        "        x = F.relu(self.fc2(x))\n",
        "        x = self.fc3(x)\n",
        "        return x\n",
        "        \n",
        "# Instantiate the model\n",
        "model = Net()"
      ],
      "metadata": {
        "id": "RuLUrk8bn5sa"
      },
      "execution_count": 7,
      "outputs": []
    },
    {
      "cell_type": "markdown",
      "source": [
        "Specify a loss function and an optimizer, and instantiate the model.\n",
        "\n",
        "If you use a less common loss function, please note why you chose that loss function in a comment."
      ],
      "metadata": {
        "id": "CPFu0-y-oD6L"
      }
    },
    {
      "cell_type": "code",
      "source": [
        "# Specify the loss function\n",
        "loss_fn = nn.CrossEntropyLoss()\n",
        "\n",
        "# Specify the optimizer\n",
        "optimizer = optim.SGD(model.parameters(), lr=0.001, momentum=0.9)"
      ],
      "metadata": {
        "id": "xCGuM9z0oQGg"
      },
      "execution_count": 8,
      "outputs": []
    },
    {
      "cell_type": "markdown",
      "source": [
        "## Running your Neural Network\n",
        "Use whatever method you like to train your neural network, and ensure you record the average loss at each epoch. \n",
        "Don't forget to use `torch.device()` and the `.to()` method for both your model and your data if you are using GPU!\n",
        "\n",
        "If you want to print your loss **during** each epoch, you can use the `enumerate` function and print the loss after a set number of batches. 250 batches works well for most people!"
      ],
      "metadata": {
        "id": "P2dqMQrLoUS7"
      }
    },
    {
      "cell_type": "code",
      "source": [
        "# Train the model\n",
        "device = torch.device(\"cuda\" if torch.cuda.is_available() else \"cpu\")\n",
        "model.to(device)\n",
        "model.train()\n",
        "\n",
        "num_epochs = 10\n",
        "train_loss_values = []\n",
        "\n",
        "for epoch in range(num_epochs):\n",
        "    running_loss = 0.0\n",
        "    for i, (inputs, labels) in enumerate(trainloader):\n",
        "        inputs, labels = inputs.to(device), labels.to(device)\n",
        "\n",
        "        optimizer.zero_grad()\n",
        "\n",
        "        outputs = model(inputs)\n",
        "        loss = loss_fn(outputs, labels)\n",
        "        loss.backward()\n",
        "        optimizer.step()\n",
        "\n",
        "        running_loss += loss.item()\n",
        "        if i % 250 == 249:\n",
        "            print(f\"[Epoch {epoch+1}, Batch {i+1}] Loss: {running_loss/250:.3f}\")\n",
        "            train_loss_values.append(running_loss / 250)\n",
        "            running_loss = 0.0"
      ],
      "metadata": {
        "colab": {
          "base_uri": "https://localhost:8080/"
        },
        "id": "4jQMPylAoVIE",
        "outputId": "06270bac-67ad-4552-f23d-e59f9546fcf8"
      },
      "execution_count": 9,
      "outputs": [
        {
          "output_type": "stream",
          "name": "stdout",
          "text": [
            "[Epoch 1, Batch 250] Loss: 2.024\n",
            "[Epoch 1, Batch 500] Loss: 1.022\n",
            "[Epoch 1, Batch 750] Loss: 0.606\n",
            "[Epoch 2, Batch 250] Loss: 0.427\n",
            "[Epoch 2, Batch 500] Loss: 0.375\n",
            "[Epoch 2, Batch 750] Loss: 0.369\n",
            "[Epoch 3, Batch 250] Loss: 0.334\n",
            "[Epoch 3, Batch 500] Loss: 0.318\n",
            "[Epoch 3, Batch 750] Loss: 0.322\n",
            "[Epoch 4, Batch 250] Loss: 0.298\n",
            "[Epoch 4, Batch 500] Loss: 0.298\n",
            "[Epoch 4, Batch 750] Loss: 0.279\n",
            "[Epoch 5, Batch 250] Loss: 0.266\n",
            "[Epoch 5, Batch 500] Loss: 0.266\n",
            "[Epoch 5, Batch 750] Loss: 0.265\n",
            "[Epoch 6, Batch 250] Loss: 0.254\n",
            "[Epoch 6, Batch 500] Loss: 0.243\n",
            "[Epoch 6, Batch 750] Loss: 0.238\n",
            "[Epoch 7, Batch 250] Loss: 0.228\n",
            "[Epoch 7, Batch 500] Loss: 0.214\n",
            "[Epoch 7, Batch 750] Loss: 0.228\n",
            "[Epoch 8, Batch 250] Loss: 0.208\n",
            "[Epoch 8, Batch 500] Loss: 0.211\n",
            "[Epoch 8, Batch 750] Loss: 0.208\n",
            "[Epoch 9, Batch 250] Loss: 0.186\n",
            "[Epoch 9, Batch 500] Loss: 0.194\n",
            "[Epoch 9, Batch 750] Loss: 0.187\n",
            "[Epoch 10, Batch 250] Loss: 0.182\n",
            "[Epoch 10, Batch 500] Loss: 0.177\n",
            "[Epoch 10, Batch 750] Loss: 0.172\n"
          ]
        }
      ]
    },
    {
      "cell_type": "markdown",
      "source": [
        "Plot the training loss (and validation loss/accuracy, if recorded)."
      ],
      "metadata": {
        "id": "gLryv33BodaI"
      }
    },
    {
      "cell_type": "code",
      "source": [
        "# Plot the training loss\n",
        "plt.plot(train_loss_values)\n",
        "plt.xlabel('Epoch')\n",
        "plt.ylabel('Training Loss')\n",
        "plt.title('Training Loss')\n",
        "plt.show()"
      ],
      "metadata": {
        "colab": {
          "base_uri": "https://localhost:8080/",
          "height": 472
        },
        "id": "fJ6_LBivog8X",
        "outputId": "54403635-415a-43c4-b27c-4d42bf9dcf9e"
      },
      "execution_count": 10,
      "outputs": [
        {
          "output_type": "display_data",
          "data": {
            "text/plain": [
              "<Figure size 640x480 with 1 Axes>"
            ],
            "image/png": "[encoded data removed]"
          },
          "metadata": {}
        }
      ]
    },
    {
      "cell_type": "markdown",
      "source": [
        "## Testing your model\n",
        "Using the previously created `DataLoader` for the test set, compute the percentage of correct predictions using the highest probability prediction. \n",
        "\n",
        "If your accuracy is over 90%, great work, but see if you can push a bit further! \n",
        "If your accuracy is under 90%, you'll need to make improvements.\n",
        "Go back and check your model architecture, loss function, and optimizer to make sure they're appropriate for an image classification task."
      ],
      "metadata": {
        "id": "vUCN9DmAzb1A"
      }
    },
    {
      "cell_type": "code",
      "source": [
        "# Evaluation mode\n",
        "model.eval()\n",
        "\n",
        "# Variables for accuracy calculation\n",
        "correct_predictions = 0\n",
        "total_samples = 0\n",
        "\n",
        "# Disable gradient calculation for evaluation\n",
        "with torch.no_grad():\n",
        "    for inputs, labels in testloader:\n",
        "        inputs, labels = inputs.to(device), labels.to(device)\n",
        "\n",
        "        # Forward pass\n",
        "        outputs = model(inputs)\n",
        "\n",
        "        # Get the predicted labels\n",
        "        predicted = torch.argmax(outputs, dim=1)\n",
        "\n",
        "        # Update counts\n",
        "        correct_predictions += (predicted == labels).sum().item()\n",
        "        total_samples += labels.size(0)\n",
        "\n",
        "# Compute accuracy\n",
        "accuracy = 100 * correct_predictions / total_samples\n",
        "print(\"Accuracy: {:.2f}%\".format(accuracy))\n"
      ],
      "metadata": {
        "colab": {
          "base_uri": "https://localhost:8080/"
        },
        "id": "rYnmiRptzcgu",
        "outputId": "66d4ff3f-7c25-48e8-ab57-233e36c7f625"
      },
      "execution_count": 11,
      "outputs": [
        {
          "output_type": "stream",
          "name": "stdout",
          "text": [
            "Accuracy: 94.68%\n"
          ]
        }
      ]
    },
    {
      "cell_type": "markdown",
      "source": [
        "## Improving your model\n",
        "\n",
        "Once your model is done training, try tweaking your hyperparameters and training again below to improve your accuracy on the test set!"
      ],
      "metadata": {
        "id": "5UG7HfuBzrV7"
      }
    },
    {
      "cell_type": "code",
      "source": [
        "# Instantiate the model\n",
        "model = Net()\n",
        "\n",
        "# Specify the loss function\n",
        "loss_fn = nn.CrossEntropyLoss()\n",
        "\n",
        "# Specify the optimizer\n",
        "optimizer = optim.Adam(model.parameters(), lr=0.001)\n",
        "\n",
        "# Train the model with modified hyperparameters\n",
        "device = torch.device(\"cuda\" if torch.cuda.is_available() else \"cpu\")\n",
        "model.to(device)\n",
        "model.train()\n",
        "\n",
        "num_epochs = 15  # Increased number of epochs\n",
        "train_loss_values = []\n",
        "\n",
        "for epoch in range(num_epochs):\n",
        "    running_loss = 0.0\n",
        "    for i, (inputs, labels) in enumerate(trainloader):\n",
        "        inputs, labels = inputs.to(device), labels.to(device)\n",
        "\n",
        "        optimizer.zero_grad()\n",
        "\n",
        "        outputs = model(inputs)\n",
        "        loss = loss_fn(outputs, labels)\n",
        "        loss.backward()\n",
        "        optimizer.step()\n",
        "\n",
        "        running_loss += loss.item()\n",
        "        if i % 250 == 249:\n",
        "            print(f\"[Epoch {epoch+1}, Batch {i+1}] Loss: {running_loss/250:.3f}\")\n",
        "            train_loss_values.append(running_loss / 250)\n",
        "            running_loss = 0.0\n",
        "\n",
        "# Evaluate the model on the test set\n",
        "model.eval()\n",
        "correct_predictions = 0\n",
        "total_samples = 0\n",
        "\n",
        "with torch.no_grad():\n",
        "    for inputs, labels in testloader:\n",
        "        inputs, labels = inputs.to(device), labels.to(device)\n",
        "        outputs = model(inputs)\n",
        "        predicted = torch.argmax(outputs, dim=1)\n",
        "        correct_predictions += (predicted == labels).sum().item()\n",
        "        total_samples += labels.size(0)"
      ],
      "metadata": {
        "colab": {
          "base_uri": "https://localhost:8080/"
        },
        "id": "w9JHhsON0gKi",
        "outputId": "795e0665-a4a2-4a6f-e846-885e68ca7224"
      },
      "execution_count": 12,
      "outputs": [
        {
          "output_type": "stream",
          "name": "stdout",
          "text": [
            "[Epoch 1, Batch 250] Loss: 0.716\n",
            "[Epoch 1, Batch 500] Loss: 0.333\n",
            "[Epoch 1, Batch 750] Loss: 0.295\n",
            "[Epoch 2, Batch 250] Loss: 0.221\n",
            "[Epoch 2, Batch 500] Loss: 0.211\n",
            "[Epoch 2, Batch 750] Loss: 0.194\n",
            "[Epoch 3, Batch 250] Loss: 0.155\n",
            "[Epoch 3, Batch 500] Loss: 0.154\n",
            "[Epoch 3, Batch 750] Loss: 0.144\n",
            "[Epoch 4, Batch 250] Loss: 0.120\n",
            "[Epoch 4, Batch 500] Loss: 0.122\n",
            "[Epoch 4, Batch 750] Loss: 0.119\n",
            "[Epoch 5, Batch 250] Loss: 0.102\n",
            "[Epoch 5, Batch 500] Loss: 0.100\n",
            "[Epoch 5, Batch 750] Loss: 0.101\n",
            "[Epoch 6, Batch 250] Loss: 0.091\n",
            "[Epoch 6, Batch 500] Loss: 0.089\n",
            "[Epoch 6, Batch 750] Loss: 0.087\n",
            "[Epoch 7, Batch 250] Loss: 0.076\n",
            "[Epoch 7, Batch 500] Loss: 0.077\n",
            "[Epoch 7, Batch 750] Loss: 0.081\n",
            "[Epoch 8, Batch 250] Loss: 0.074\n",
            "[Epoch 8, Batch 500] Loss: 0.070\n",
            "[Epoch 8, Batch 750] Loss: 0.075\n",
            "[Epoch 9, Batch 250] Loss: 0.064\n",
            "[Epoch 9, Batch 500] Loss: 0.062\n",
            "[Epoch 9, Batch 750] Loss: 0.066\n",
            "[Epoch 10, Batch 250] Loss: 0.058\n",
            "[Epoch 10, Batch 500] Loss: 0.059\n",
            "[Epoch 10, Batch 750] Loss: 0.055\n",
            "[Epoch 11, Batch 250] Loss: 0.050\n",
            "[Epoch 11, Batch 500] Loss: 0.054\n",
            "[Epoch 11, Batch 750] Loss: 0.061\n",
            "[Epoch 12, Batch 250] Loss: 0.053\n",
            "[Epoch 12, Batch 500] Loss: 0.052\n",
            "[Epoch 12, Batch 750] Loss: 0.044\n",
            "[Epoch 13, Batch 250] Loss: 0.043\n",
            "[Epoch 13, Batch 500] Loss: 0.038\n",
            "[Epoch 13, Batch 750] Loss: 0.050\n",
            "[Epoch 14, Batch 250] Loss: 0.043\n",
            "[Epoch 14, Batch 500] Loss: 0.041\n",
            "[Epoch 14, Batch 750] Loss: 0.049\n",
            "[Epoch 15, Batch 250] Loss: 0.039\n",
            "[Epoch 15, Batch 500] Loss: 0.040\n",
            "[Epoch 15, Batch 750] Loss: 0.040\n"
          ]
        }
      ]
    },
    {
      "cell_type": "code",
      "source": [
        "accuracy = 100 * correct_predictions / total_samples\n",
        "print(\"Accuracy after Hyperparameter Tuning: {:.2f}%\".format(accuracy))"
      ],
      "metadata": {
        "colab": {
          "base_uri": "https://localhost:8080/"
        },
        "id": "2quwih87g10y",
        "outputId": "16153d0a-2dbd-4fd8-fbb2-962fd981cfc9"
      },
      "execution_count": 15,
      "outputs": [
        {
          "output_type": "stream",
          "name": "stdout",
          "text": [
            "Accuracy after Hyperparameter Tuning: 97.26%\n"
          ]
        }
      ]
    },
    {
      "cell_type": "markdown",
      "source": [
        "## Saving your model\n",
        "Using `torch.save`, save your model for future loading."
      ],
      "metadata": {
        "id": "Glse_SCg0fwi"
      }
    },
    {
      "cell_type": "code",
      "source": [
        "# Save the trained model\n",
        "PATH = \"model.pth\"\n",
        "torch.save(model.state_dict(), PATH)\n"
      ],
      "metadata": {
        "id": "HuvGaoHg0x-k"
      },
      "execution_count": 16,
      "outputs": []
    }
  ]
}